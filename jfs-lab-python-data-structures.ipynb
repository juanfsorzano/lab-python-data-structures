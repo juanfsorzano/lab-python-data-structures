{
 "cells": [
  {
   "cell_type": "markdown",
   "metadata": {
    "tags": []
   },
   "source": [
    "# Lab | Data Structures "
   ]
  },
  {
   "cell_type": "markdown",
   "metadata": {},
   "source": [
    "## Exercise: Managing Customer Orders\n",
    "\n",
    "As part of a business venture, you are starting an online store that sells various products. To ensure smooth operations, you need to develop a program that manages customer orders and inventory.\n",
    "\n",
    "Follow the steps below to complete the exercise:\n",
    "\n",
    "1. Define a list called `products` that contains the following items: \"t-shirt\", \"mug\", \"hat\", \"book\", \"keychain\".\n",
    "\n",
    "2. Create an empty dictionary called `inventory`.\n",
    "\n",
    "3. Ask the user to input the quantity of each product available in the inventory. Use the product names from the `products` list as keys in the `inventory` dictionary and assign the respective quantities as values.\n",
    "\n",
    "4. Create an empty set called `customer_orders`.\n",
    "\n",
    "5. Ask the user to input the name of three products that a customer wants to order (from those in the products list, meaning three products out of \"t-shirt\", \"mug\", \"hat\", \"book\" or \"keychain\". Add each product name to the `customer_orders` set.\n",
    "\n",
    "6. Print the products in the `customer_orders` set.\n",
    "\n",
    "7. Calculate the following order statistics:\n",
    "   - Total Products Ordered: The total number of products in the `customer_orders` set.\n",
    "   - Percentage of Products Ordered: The percentage of products ordered compared to the total available products.\n",
    "   \n",
    "   Store these statistics in a tuple called `order_status`.\n",
    "\n",
    "8. Print the order statistics using the following format:\n",
    "   ```\n",
    "   Order Statistics:\n",
    "   Total Products Ordered: <total_products_ordered>\n",
    "   Percentage of Products Ordered: <percentage_ordered>% \n",
    "   ```\n",
    "\n",
    "9. Update the inventory by subtracting 1 from the quantity of each product. Modify the `inventory` dictionary accordingly.\n",
    "\n",
    "10. Print the updated inventory, displaying the quantity of each product on separate lines.\n",
    "\n",
    "Solve the exercise by implementing the steps using the Python concepts of lists, dictionaries, sets, and basic input/output operations. "
   ]
  },
  {
   "cell_type": "code",
   "execution_count": 4,
   "metadata": {},
   "outputs": [
    {
     "data": {
      "text/plain": [
       "list"
      ]
     },
     "execution_count": 4,
     "metadata": {},
     "output_type": "execute_result"
    }
   ],
   "source": [
    "#1. Define a list called `products` that contains the following items: \"t-shirt\", \"mug\", \"hat\", \"book\", \"keychain\".\n",
    "\n",
    "products = [\"t-shirt\", \"mug\", \"hat\", \"book\", \"keychain\"]\n",
    "type(products)"
   ]
  },
  {
   "cell_type": "code",
   "execution_count": 5,
   "metadata": {},
   "outputs": [
    {
     "data": {
      "text/plain": [
       "dict"
      ]
     },
     "execution_count": 5,
     "metadata": {},
     "output_type": "execute_result"
    }
   ],
   "source": [
    "#2. Create an empty dictionary called `inventory`.\n",
    "\n",
    "inventory={}\n",
    "type(inventory)"
   ]
  },
  {
   "cell_type": "code",
   "execution_count": 6,
   "metadata": {},
   "outputs": [
    {
     "name": "stdout",
     "output_type": "stream",
     "text": [
      "{'t-shirt': 10, 'mug': 10, 'hat': 10, 'book': 10, 'keychain': 10}\n"
     ]
    }
   ],
   "source": [
    "#3. Ask the user to input the quantity of each product available in the inventory. Use the product names from the `products` list as keys in the `inventory` dictionary and assign the respective quantities as values.\n",
    "\n",
    "for i in products:\n",
    "    temp = int(input(f\"input the {i} of product\"))\n",
    "    inventory[i] = temp\n",
    "\n",
    "print(inventory)"
   ]
  },
  {
   "cell_type": "code",
   "execution_count": 9,
   "metadata": {},
   "outputs": [
    {
     "name": "stdout",
     "output_type": "stream",
     "text": [
      "Congratulations,product added to the cart!\n",
      "Congratulations,product added to the cart!\n",
      "Congratulations,product added to the cart!\n",
      "{'mug', 'book', 'hat'}\n",
      "<class 'set'>\n",
      "<class 'str'>\n",
      "mug\n"
     ]
    }
   ],
   "source": [
    "#5. Ask the user to input the name of three products that a customer wants to order (from those in the products list, meaning three products out of \"t-shirt\", \"mug\", \"hat\", \"book\" or \"keychain\". Add each product name to the `customer_orders` set.\n",
    "customer_orders = set()\n",
    "\n",
    "while len(customer_orders) != 3:\n",
    "    ordered_products = input(f\"Please choose you product t-shirt, mug, hat, book, keychain\")\n",
    "    if ordered_products not in products:\n",
    "        print(\"KeyError introduce a valid product!\")\n",
    "    else:\n",
    "        if ordered_products not in customer_orders:\n",
    "            customer_orders.add(ordered_products)\n",
    "            print(\"Congratulations,product added to the cart!\")\n",
    "        else:\n",
    "            print(f\"Product already ordered {ordered_products}\")\n",
    "\n",
    "\n",
    "print(customer_orders)\n",
    "print(type(customer_orders))\n",
    "print(type(ordered_products))\n",
    "print(ordered_products)\n"
   ]
  },
  {
   "cell_type": "code",
   "execution_count": null,
   "metadata": {},
   "outputs": [],
   "source": [
    "#6. Print the products in the `customer_orders` set."
   ]
  },
  {
   "cell_type": "code",
   "execution_count": 21,
   "metadata": {},
   "outputs": [
    {
     "name": "stdout",
     "output_type": "stream",
     "text": [
      "3\n",
      "50\n",
      "6.0\n",
      "(3, 6.0)\n",
      "dict_values([10, 10, 10, 10, 10])\n"
     ]
    }
   ],
   "source": [
    "#7. Calculate the following order statistics:\n",
    "   #- Total Products Ordered: The total number of products in the `customer_orders` set.\n",
    "   #- Percentage of Products Ordered: The percentage of products ordered compared to the total available products.\n",
    "   \n",
    "   #Store these statistics in a tuple called `order_status`.\n",
    "\n",
    "\n",
    "user_stock = len(customer_orders)\n",
    "products_stock = inventory.values()\n",
    "all_stock = sum(products_stock)\n",
    "\n",
    "    \n",
    "percentage = (user_stock / all_stock)*100\n",
    "\n",
    "order_status= (user_stock, percentage)\n",
    "\n",
    "print(user_stock)\n",
    "print(all_stock)\n",
    "print(percentage)\n",
    "print(order_status)\n",
    "\n",
    "print(products_stock)\n"
   ]
  },
  {
   "cell_type": "code",
   "execution_count": null,
   "metadata": {},
   "outputs": [],
   "source": [
    "\n",
    "\n",
    "#8. Print the order statistics using the following format:\n",
    "  # ```\n",
    "  # Order Statistics:\n",
    "   #Total Products Ordered: <total_products_ordered>\n",
    "   #Percentage of Products Ordered: <percentage_ordered>% \n",
    "  # ```\n",
    "\n"
   ]
  },
  {
   "cell_type": "code",
   "execution_count": 23,
   "metadata": {},
   "outputs": [
    {
     "name": "stdout",
     "output_type": "stream",
     "text": [
      "{'t-shirt': 10, 'mug': 10, 'hat': 10, 'book': 10, 'keychain': 10}\n"
     ]
    }
   ],
   "source": [
    "print(inventory)"
   ]
  },
  {
   "cell_type": "code",
   "execution_count": 26,
   "metadata": {},
   "outputs": [
    {
     "name": "stdout",
     "output_type": "stream",
     "text": [
      "{'t-shirt': 7, 'mug': 7, 'hat': 7, 'book': 7, 'keychain': 7}\n"
     ]
    }
   ],
   "source": [
    "\n",
    "\n",
    "#9. Update the inventory by subtracting 1 from the quantity of each product. Modify the `inventory` dictionary accordingly.\n",
    "for value in inventory:\n",
    "    inventory[value] -= 1\n",
    "\n",
    "print(inventory)"
   ]
  },
  {
   "cell_type": "code",
   "execution_count": 27,
   "metadata": {},
   "outputs": [
    {
     "data": {
      "text/plain": [
       "{'book', 'keychain', 'mug'}"
      ]
     },
     "execution_count": 27,
     "metadata": {},
     "output_type": "execute_result"
    }
   ],
   "source": [
    "customer_orders"
   ]
  },
  {
   "cell_type": "code",
   "execution_count": 35,
   "metadata": {},
   "outputs": [
    {
     "name": "stdout",
     "output_type": "stream",
     "text": [
      "out of Stock\n",
      "out of Stock\n",
      "out of Stock\n",
      "{'t-shirt': 7, 'mug': 0, 'hat': 7, 'book': 0, 'keychain': 0}\n"
     ]
    }
   ],
   "source": [
    "#9. Update the inventory by subtracting 1 from the quantity of each product ORDERED by the customer. Modify the `inventory` dictionary accordingly.\n",
    "\n",
    "for item in customer_orders:\n",
    "        if inventory[item] < 1:\n",
    "            print(\"out of Stock\")\n",
    "        else:\n",
    "            inventory[item]-=1 \n",
    "    \n",
    "print(inventory)\n"
   ]
  },
  {
   "cell_type": "code",
   "execution_count": 38,
   "metadata": {},
   "outputs": [
    {
     "name": "stdout",
     "output_type": "stream",
     "text": [
      "you have 7 of t-shirt\n",
      "you have 0 of mug\n",
      "you have 7 of hat\n",
      "you have 0 of book\n",
      "you have 0 of keychain\n"
     ]
    }
   ],
   "source": [
    "#10. Print the updated inventory, displaying the quantity of each product on separate lines.\n",
    "for key, value in inventory.items():\n",
    "    print(f\"you have {value} of {key}\")\n"
   ]
  },
  {
   "cell_type": "code",
   "execution_count": 39,
   "metadata": {},
   "outputs": [
    {
     "data": {
      "text/plain": [
       "{'t-shirt': 7, 'mug': 0, 'hat': 7, 'book': 0, 'keychain': 0}"
      ]
     },
     "execution_count": 39,
     "metadata": {},
     "output_type": "execute_result"
    }
   ],
   "source": [
    "\n",
    "inventory\n",
    "#Solve the exercise by implementing the steps using the Python concepts of lists, dictionaries, sets, and basic input/output operations. "
   ]
  }
 ],
 "metadata": {
  "kernelspec": {
   "display_name": "Python 3 (ipykernel)",
   "language": "python",
   "name": "python3"
  },
  "language_info": {
   "codemirror_mode": {
    "name": "ipython",
    "version": 3
   },
   "file_extension": ".py",
   "mimetype": "text/x-python",
   "name": "python",
   "nbconvert_exporter": "python",
   "pygments_lexer": "ipython3",
   "version": "3.12.3"
  }
 },
 "nbformat": 4,
 "nbformat_minor": 4
}
